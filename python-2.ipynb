{
  "nbformat": 4,
  "nbformat_minor": 0,
  "metadata": {
    "colab": {
      "provenance": [],
      "toc_visible": true
    },
    "kernelspec": {
      "name": "python3",
      "display_name": "Python 3"
    }
  },
  "cells": [
    {
      "cell_type": "markdown",
      "metadata": {
        "id": "Cr5YdSOXLziJ"
      },
      "source": [
        "# Whirlwind Intro to Python - More Data Types"
      ]
    },
    {
      "cell_type": "markdown",
      "metadata": {
        "id": "O7yhvFjQ0D6L"
      },
      "source": [
        "[Part 1](https://colab.research.google.com/drive/1H4IOWAQ_-0tXIUh4ZLETefRKvu-1SLq6#scrollTo=G65whAqGLNmm)"
      ]
    },
    {
      "cell_type": "markdown",
      "source": [
        "## More Data Types"
      ],
      "metadata": {
        "id": "WxdgAPnh-iZm"
      }
    },
    {
      "cell_type": "markdown",
      "source": [
        "### Lists\n",
        "\n",
        "In Python, there is not an array data type in pure Python. But Python does have lists which can be used in a similar way to arrays."
      ],
      "metadata": {
        "id": "xDyx_PYG-lhH"
      }
    },
    {
      "cell_type": "code",
      "source": [
        "my_list = [\"item1\", \"item2\", \"item3\"]\n",
        "\n",
        "my_list[1]"
      ],
      "metadata": {
        "id": "vnA1FgpWs4NF"
      },
      "execution_count": null,
      "outputs": []
    },
    {
      "cell_type": "code",
      "source": [
        "another_list = [1,2,3,4]\n",
        "\n",
        "another_list[0:4] #note this does not include another_list[3]"
      ],
      "metadata": {
        "id": "9gFVTfBbtKHL"
      },
      "execution_count": null,
      "outputs": []
    },
    {
      "cell_type": "code",
      "source": [
        "another_list[4]"
      ],
      "metadata": {
        "id": "a5KCsiIAm3Xg"
      },
      "execution_count": null,
      "outputs": []
    },
    {
      "cell_type": "markdown",
      "source": [
        "Lists can be used as the iterator in a for loop:"
      ],
      "metadata": {
        "id": "6eZktnGjuDP1"
      }
    },
    {
      "cell_type": "code",
      "source": [
        "for x in my_list:\n",
        "  print(x)"
      ],
      "metadata": {
        "id": "Rn9ML36ut_lI"
      },
      "execution_count": null,
      "outputs": []
    },
    {
      "cell_type": "markdown",
      "source": [
        "### Dictionaries\n",
        "\n",
        "A way to store key value pair data"
      ],
      "metadata": {
        "id": "yy2l0Yz7-nUP"
      }
    },
    {
      "cell_type": "code",
      "source": [
        "my_dict = {\n",
        "    \"key1\": \"value\",\n",
        "    \"key2\": 2,\n",
        "    \"key3\": True,\n",
        "    \"key4\": {\n",
        "        \"key5\": \"name\",\n",
        "        \"key6\": 5\n",
        "    }\n",
        "}\n",
        "\n",
        "my_dict"
      ],
      "metadata": {
        "id": "G4fFQ0qxvAGZ"
      },
      "execution_count": null,
      "outputs": []
    },
    {
      "cell_type": "code",
      "source": [
        "my_dict[\"key4\"][\"key6\"]"
      ],
      "metadata": {
        "id": "pxv7fBV9vQ1A"
      },
      "execution_count": null,
      "outputs": []
    },
    {
      "cell_type": "markdown",
      "source": [
        "## Functions"
      ],
      "metadata": {
        "id": "O5Ijo6OX-1VS"
      }
    },
    {
      "cell_type": "markdown",
      "source": [
        "Reusable bits of code, useful for things you might want to happen more than once.\n",
        "\n",
        "Functions are blocks of code which run when called. They use something called parameters."
      ],
      "metadata": {
        "id": "7_oiFCHjvjZj"
      }
    },
    {
      "cell_type": "code",
      "source": [
        "def my_function():\n",
        "  print(\"Function print\")"
      ],
      "metadata": {
        "id": "XvYWwnIjv0cy"
      },
      "execution_count": null,
      "outputs": []
    },
    {
      "cell_type": "code",
      "source": [
        "my_function()"
      ],
      "metadata": {
        "id": "xF3d_Fuqv3zj"
      },
      "execution_count": null,
      "outputs": []
    },
    {
      "cell_type": "code",
      "source": [
        "def my_function2(x,y):\n",
        "  print(x+y)"
      ],
      "metadata": {
        "id": "A4PNkuorv7Jg"
      },
      "execution_count": null,
      "outputs": []
    },
    {
      "cell_type": "code",
      "source": [
        "my_function2()"
      ],
      "metadata": {
        "id": "S0rCshyAwCKT"
      },
      "execution_count": null,
      "outputs": []
    },
    {
      "cell_type": "code",
      "source": [
        "my_function2(9,8)"
      ],
      "metadata": {
        "id": "o-nSkzdNwEbd"
      },
      "execution_count": null,
      "outputs": []
    },
    {
      "cell_type": "code",
      "source": [
        "def my_function3(x,y):\n",
        "  return x+y"
      ],
      "metadata": {
        "id": "6Bk-YUXxwGzp"
      },
      "execution_count": null,
      "outputs": []
    },
    {
      "cell_type": "code",
      "source": [
        "my_function3(9,8)"
      ],
      "metadata": {
        "id": "0d4CwlEawPGm"
      },
      "execution_count": null,
      "outputs": []
    },
    {
      "cell_type": "code",
      "source": [
        "summed_test = my_function2(9,8)"
      ],
      "metadata": {
        "id": "ohzLp0YQwUHd"
      },
      "execution_count": null,
      "outputs": []
    },
    {
      "cell_type": "code",
      "source": [
        "summed = my_function3(9,8)"
      ],
      "metadata": {
        "id": "HOSxbyYRwYIK"
      },
      "execution_count": null,
      "outputs": []
    },
    {
      "cell_type": "code",
      "source": [
        "summed_test"
      ],
      "metadata": {
        "id": "zw7ITOuowc-I"
      },
      "execution_count": null,
      "outputs": []
    },
    {
      "cell_type": "code",
      "source": [
        "summed"
      ],
      "metadata": {
        "id": "2iOIL7j4wei9"
      },
      "execution_count": null,
      "outputs": []
    },
    {
      "cell_type": "markdown",
      "source": [
        "### lambda"
      ],
      "metadata": {
        "id": "i9PpNDKX_NHR"
      }
    },
    {
      "cell_type": "markdown",
      "source": [
        "A small function (only one expression - can only do one thing). Can be used to apply a function or transformation to a pandas dataframe."
      ],
      "metadata": {
        "id": "4cf9ve34wkuZ"
      }
    },
    {
      "cell_type": "code",
      "source": [
        "x_lambda = lambda num: num * 100\n",
        "x_lambda(5)"
      ],
      "metadata": {
        "colab": {
          "base_uri": "https://localhost:8080/"
        },
        "id": "DMAMnjLFwtQN",
        "outputId": "dbb3ae05-92b4-4c91-aff1-d882574e606a"
      },
      "execution_count": null,
      "outputs": [
        {
          "output_type": "execute_result",
          "data": {
            "text/plain": [
              "500"
            ]
          },
          "metadata": {},
          "execution_count": 4
        }
      ]
    },
    {
      "cell_type": "markdown",
      "source": [
        "## Try ... Except"
      ],
      "metadata": {
        "id": "X-7PMei0-8ua"
      }
    },
    {
      "cell_type": "markdown",
      "source": [
        "Used to avoid errors."
      ],
      "metadata": {
        "id": "Mo_JOQNVvUhX"
      }
    },
    {
      "cell_type": "code",
      "source": [
        "try:\n",
        "  print(x)\n",
        "except:\n",
        "  print(\"An exception occurred\")"
      ],
      "metadata": {
        "id": "PqK_oTEEvWaz"
      },
      "execution_count": null,
      "outputs": []
    },
    {
      "cell_type": "code",
      "source": [
        "try:\n",
        "  print(z)\n",
        "except:\n",
        "  print(\"An exception occurred\")"
      ],
      "metadata": {
        "id": "grzPplv-veP_"
      },
      "execution_count": null,
      "outputs": []
    },
    {
      "cell_type": "code",
      "source": [
        "print(z)"
      ],
      "metadata": {
        "id": "OJFJ6OA6vhVn"
      },
      "execution_count": null,
      "outputs": []
    },
    {
      "cell_type": "markdown",
      "source": [
        "## Importing Libraries"
      ],
      "metadata": {
        "id": "UIIMPy_1--7J"
      }
    },
    {
      "cell_type": "markdown",
      "source": [
        "To use pre-written Python code (called libraries), these need to be imported before they are used.\n",
        "\n",
        "There are some basic but useful libraries."
      ],
      "metadata": {
        "id": "RpxEe4p6uIdi"
      }
    },
    {
      "cell_type": "markdown",
      "source": [
        "### datetime"
      ],
      "metadata": {
        "id": "KfFGTjns_GDi"
      }
    },
    {
      "cell_type": "code",
      "source": [
        "import datetime"
      ],
      "metadata": {
        "id": "dQOO0ZxR_HzD"
      },
      "execution_count": null,
      "outputs": []
    },
    {
      "cell_type": "code",
      "source": [
        "help(datetime)"
      ],
      "metadata": {
        "colab": {
          "base_uri": "https://localhost:8080/"
        },
        "id": "lG-PJjUnbZN7",
        "outputId": "44daf037-1448-4a78-b129-d23f14414a2c"
      },
      "execution_count": null,
      "outputs": [
        {
          "output_type": "stream",
          "name": "stdout",
          "text": [
            "Help on module datetime:\n",
            "\n",
            "NAME\n",
            "    datetime - Fast implementation of the datetime type.\n",
            "\n",
            "MODULE REFERENCE\n",
            "    https://docs.python.org/3.10/library/datetime.html\n",
            "    \n",
            "    The following documentation is automatically generated from the Python\n",
            "    source files.  It may be incomplete, incorrect or include features that\n",
            "    are considered implementation detail and may vary between Python\n",
            "    implementations.  When in doubt, consult the module reference at the\n",
            "    location listed above.\n",
            "\n",
            "CLASSES\n",
            "    builtins.object\n",
            "        date\n",
            "            datetime\n",
            "        time\n",
            "        timedelta\n",
            "        tzinfo\n",
            "            timezone\n",
            "    \n",
            "    class date(builtins.object)\n",
            "     |  date(year, month, day) --> date object\n",
            "     |  \n",
            "     |  Methods defined here:\n",
            "     |  \n",
            "     |  __add__(self, value, /)\n",
            "     |      Return self+value.\n",
            "     |  \n",
            "     |  __eq__(self, value, /)\n",
            "     |      Return self==value.\n",
            "     |  \n",
            "     |  __format__(...)\n",
            "     |      Formats self with strftime.\n",
            "     |  \n",
            "     |  __ge__(self, value, /)\n",
            "     |      Return self>=value.\n",
            "     |  \n",
            "     |  __getattribute__(self, name, /)\n",
            "     |      Return getattr(self, name).\n",
            "     |  \n",
            "     |  __gt__(self, value, /)\n",
            "     |      Return self>value.\n",
            "     |  \n",
            "     |  __hash__(self, /)\n",
            "     |      Return hash(self).\n",
            "     |  \n",
            "     |  __le__(self, value, /)\n",
            "     |      Return self<=value.\n",
            "     |  \n",
            "     |  __lt__(self, value, /)\n",
            "     |      Return self<value.\n",
            "     |  \n",
            "     |  __ne__(self, value, /)\n",
            "     |      Return self!=value.\n",
            "     |  \n",
            "     |  __radd__(self, value, /)\n",
            "     |      Return value+self.\n",
            "     |  \n",
            "     |  __reduce__(...)\n",
            "     |      __reduce__() -> (cls, state)\n",
            "     |  \n",
            "     |  __repr__(self, /)\n",
            "     |      Return repr(self).\n",
            "     |  \n",
            "     |  __rsub__(self, value, /)\n",
            "     |      Return value-self.\n",
            "     |  \n",
            "     |  __str__(self, /)\n",
            "     |      Return str(self).\n",
            "     |  \n",
            "     |  __sub__(self, value, /)\n",
            "     |      Return self-value.\n",
            "     |  \n",
            "     |  ctime(...)\n",
            "     |      Return ctime() style string.\n",
            "     |  \n",
            "     |  isocalendar(...)\n",
            "     |      Return a named tuple containing ISO year, week number, and weekday.\n",
            "     |  \n",
            "     |  isoformat(...)\n",
            "     |      Return string in ISO 8601 format, YYYY-MM-DD.\n",
            "     |  \n",
            "     |  isoweekday(...)\n",
            "     |      Return the day of the week represented by the date.\n",
            "     |      Monday == 1 ... Sunday == 7\n",
            "     |  \n",
            "     |  replace(...)\n",
            "     |      Return date with new specified fields.\n",
            "     |  \n",
            "     |  strftime(...)\n",
            "     |      format -> strftime() style string.\n",
            "     |  \n",
            "     |  timetuple(...)\n",
            "     |      Return time tuple, compatible with time.localtime().\n",
            "     |  \n",
            "     |  toordinal(...)\n",
            "     |      Return proleptic Gregorian ordinal.  January 1 of year 1 is day 1.\n",
            "     |  \n",
            "     |  weekday(...)\n",
            "     |      Return the day of the week represented by the date.\n",
            "     |      Monday == 0 ... Sunday == 6\n",
            "     |  \n",
            "     |  ----------------------------------------------------------------------\n",
            "     |  Class methods defined here:\n",
            "     |  \n",
            "     |  fromisocalendar(...) from builtins.type\n",
            "     |      int, int, int -> Construct a date from the ISO year, week number and weekday.\n",
            "     |      \n",
            "     |      This is the inverse of the date.isocalendar() function\n",
            "     |  \n",
            "     |  fromisoformat(...) from builtins.type\n",
            "     |      str -> Construct a date from the output of date.isoformat()\n",
            "     |  \n",
            "     |  fromordinal(...) from builtins.type\n",
            "     |      int -> date corresponding to a proleptic Gregorian ordinal.\n",
            "     |  \n",
            "     |  fromtimestamp(timestamp, /) from builtins.type\n",
            "     |      Create a date from a POSIX timestamp.\n",
            "     |      \n",
            "     |      The timestamp is a number, e.g. created via time.time(), that is interpreted\n",
            "     |      as local time.\n",
            "     |  \n",
            "     |  today(...) from builtins.type\n",
            "     |      Current date or datetime:  same as self.__class__.fromtimestamp(time.time()).\n",
            "     |  \n",
            "     |  ----------------------------------------------------------------------\n",
            "     |  Static methods defined here:\n",
            "     |  \n",
            "     |  __new__(*args, **kwargs) from builtins.type\n",
            "     |      Create and return a new object.  See help(type) for accurate signature.\n",
            "     |  \n",
            "     |  ----------------------------------------------------------------------\n",
            "     |  Data descriptors defined here:\n",
            "     |  \n",
            "     |  day\n",
            "     |  \n",
            "     |  month\n",
            "     |  \n",
            "     |  year\n",
            "     |  \n",
            "     |  ----------------------------------------------------------------------\n",
            "     |  Data and other attributes defined here:\n",
            "     |  \n",
            "     |  max = datetime.date(9999, 12, 31)\n",
            "     |  \n",
            "     |  min = datetime.date(1, 1, 1)\n",
            "     |  \n",
            "     |  resolution = datetime.timedelta(days=1)\n",
            "    \n",
            "    class datetime(date)\n",
            "     |  datetime(year, month, day[, hour[, minute[, second[, microsecond[,tzinfo]]]]])\n",
            "     |  \n",
            "     |  The year, month and day arguments are required. tzinfo may be None, or an\n",
            "     |  instance of a tzinfo subclass. The remaining arguments may be ints.\n",
            "     |  \n",
            "     |  Method resolution order:\n",
            "     |      datetime\n",
            "     |      date\n",
            "     |      builtins.object\n",
            "     |  \n",
            "     |  Methods defined here:\n",
            "     |  \n",
            "     |  __add__(self, value, /)\n",
            "     |      Return self+value.\n",
            "     |  \n",
            "     |  __eq__(self, value, /)\n",
            "     |      Return self==value.\n",
            "     |  \n",
            "     |  __ge__(self, value, /)\n",
            "     |      Return self>=value.\n",
            "     |  \n",
            "     |  __getattribute__(self, name, /)\n",
            "     |      Return getattr(self, name).\n",
            "     |  \n",
            "     |  __gt__(self, value, /)\n",
            "     |      Return self>value.\n",
            "     |  \n",
            "     |  __hash__(self, /)\n",
            "     |      Return hash(self).\n",
            "     |  \n",
            "     |  __le__(self, value, /)\n",
            "     |      Return self<=value.\n",
            "     |  \n",
            "     |  __lt__(self, value, /)\n",
            "     |      Return self<value.\n",
            "     |  \n",
            "     |  __ne__(self, value, /)\n",
            "     |      Return self!=value.\n",
            "     |  \n",
            "     |  __radd__(self, value, /)\n",
            "     |      Return value+self.\n",
            "     |  \n",
            "     |  __reduce__(...)\n",
            "     |      __reduce__() -> (cls, state)\n",
            "     |  \n",
            "     |  __reduce_ex__(...)\n",
            "     |      __reduce_ex__(proto) -> (cls, state)\n",
            "     |  \n",
            "     |  __repr__(self, /)\n",
            "     |      Return repr(self).\n",
            "     |  \n",
            "     |  __rsub__(self, value, /)\n",
            "     |      Return value-self.\n",
            "     |  \n",
            "     |  __str__(self, /)\n",
            "     |      Return str(self).\n",
            "     |  \n",
            "     |  __sub__(self, value, /)\n",
            "     |      Return self-value.\n",
            "     |  \n",
            "     |  astimezone(...)\n",
            "     |      tz -> convert to local time in new timezone tz\n",
            "     |  \n",
            "     |  ctime(...)\n",
            "     |      Return ctime() style string.\n",
            "     |  \n",
            "     |  date(...)\n",
            "     |      Return date object with same year, month and day.\n",
            "     |  \n",
            "     |  dst(...)\n",
            "     |      Return self.tzinfo.dst(self).\n",
            "     |  \n",
            "     |  isoformat(...)\n",
            "     |      [sep] -> string in ISO 8601 format, YYYY-MM-DDT[HH[:MM[:SS[.mmm[uuu]]]]][+HH:MM].\n",
            "     |      sep is used to separate the year from the time, and defaults to 'T'.\n",
            "     |      The optional argument timespec specifies the number of additional terms\n",
            "     |      of the time to include. Valid options are 'auto', 'hours', 'minutes',\n",
            "     |      'seconds', 'milliseconds' and 'microseconds'.\n",
            "     |  \n",
            "     |  replace(...)\n",
            "     |      Return datetime with new specified fields.\n",
            "     |  \n",
            "     |  time(...)\n",
            "     |      Return time object with same time but with tzinfo=None.\n",
            "     |  \n",
            "     |  timestamp(...)\n",
            "     |      Return POSIX timestamp as float.\n",
            "     |  \n",
            "     |  timetuple(...)\n",
            "     |      Return time tuple, compatible with time.localtime().\n",
            "     |  \n",
            "     |  timetz(...)\n",
            "     |      Return time object with same time and tzinfo.\n",
            "     |  \n",
            "     |  tzname(...)\n",
            "     |      Return self.tzinfo.tzname(self).\n",
            "     |  \n",
            "     |  utcoffset(...)\n",
            "     |      Return self.tzinfo.utcoffset(self).\n",
            "     |  \n",
            "     |  utctimetuple(...)\n",
            "     |      Return UTC time tuple, compatible with time.localtime().\n",
            "     |  \n",
            "     |  ----------------------------------------------------------------------\n",
            "     |  Class methods defined here:\n",
            "     |  \n",
            "     |  combine(...) from builtins.type\n",
            "     |      date, time -> datetime with same date and time fields\n",
            "     |  \n",
            "     |  fromisoformat(...) from builtins.type\n",
            "     |      string -> datetime from datetime.isoformat() output\n",
            "     |  \n",
            "     |  fromtimestamp(...) from builtins.type\n",
            "     |      timestamp[, tz] -> tz's local time from POSIX timestamp.\n",
            "     |  \n",
            "     |  now(tz=None) from builtins.type\n",
            "     |      Returns new datetime object representing current time local to tz.\n",
            "     |      \n",
            "     |        tz\n",
            "     |          Timezone object.\n",
            "     |      \n",
            "     |      If no tz is specified, uses local timezone.\n",
            "     |  \n",
            "     |  strptime(...) from builtins.type\n",
            "     |      string, format -> new datetime parsed from a string (like time.strptime()).\n",
            "     |  \n",
            "     |  utcfromtimestamp(...) from builtins.type\n",
            "     |      Construct a naive UTC datetime from a POSIX timestamp.\n",
            "     |  \n",
            "     |  utcnow(...) from builtins.type\n",
            "     |      Return a new datetime representing UTC day and time.\n",
            "     |  \n",
            "     |  ----------------------------------------------------------------------\n",
            "     |  Static methods defined here:\n",
            "     |  \n",
            "     |  __new__(*args, **kwargs) from builtins.type\n",
            "     |      Create and return a new object.  See help(type) for accurate signature.\n",
            "     |  \n",
            "     |  ----------------------------------------------------------------------\n",
            "     |  Data descriptors defined here:\n",
            "     |  \n",
            "     |  fold\n",
            "     |  \n",
            "     |  hour\n",
            "     |  \n",
            "     |  microsecond\n",
            "     |  \n",
            "     |  minute\n",
            "     |  \n",
            "     |  second\n",
            "     |  \n",
            "     |  tzinfo\n",
            "     |  \n",
            "     |  ----------------------------------------------------------------------\n",
            "     |  Data and other attributes defined here:\n",
            "     |  \n",
            "     |  max = datetime.datetime(9999, 12, 31, 23, 59, 59, 999999)\n",
            "     |  \n",
            "     |  min = datetime.datetime(1, 1, 1, 0, 0)\n",
            "     |  \n",
            "     |  resolution = datetime.timedelta(microseconds=1)\n",
            "     |  \n",
            "     |  ----------------------------------------------------------------------\n",
            "     |  Methods inherited from date:\n",
            "     |  \n",
            "     |  __format__(...)\n",
            "     |      Formats self with strftime.\n",
            "     |  \n",
            "     |  isocalendar(...)\n",
            "     |      Return a named tuple containing ISO year, week number, and weekday.\n",
            "     |  \n",
            "     |  isoweekday(...)\n",
            "     |      Return the day of the week represented by the date.\n",
            "     |      Monday == 1 ... Sunday == 7\n",
            "     |  \n",
            "     |  strftime(...)\n",
            "     |      format -> strftime() style string.\n",
            "     |  \n",
            "     |  toordinal(...)\n",
            "     |      Return proleptic Gregorian ordinal.  January 1 of year 1 is day 1.\n",
            "     |  \n",
            "     |  weekday(...)\n",
            "     |      Return the day of the week represented by the date.\n",
            "     |      Monday == 0 ... Sunday == 6\n",
            "     |  \n",
            "     |  ----------------------------------------------------------------------\n",
            "     |  Class methods inherited from date:\n",
            "     |  \n",
            "     |  fromisocalendar(...) from builtins.type\n",
            "     |      int, int, int -> Construct a date from the ISO year, week number and weekday.\n",
            "     |      \n",
            "     |      This is the inverse of the date.isocalendar() function\n",
            "     |  \n",
            "     |  fromordinal(...) from builtins.type\n",
            "     |      int -> date corresponding to a proleptic Gregorian ordinal.\n",
            "     |  \n",
            "     |  today(...) from builtins.type\n",
            "     |      Current date or datetime:  same as self.__class__.fromtimestamp(time.time()).\n",
            "     |  \n",
            "     |  ----------------------------------------------------------------------\n",
            "     |  Data descriptors inherited from date:\n",
            "     |  \n",
            "     |  day\n",
            "     |  \n",
            "     |  month\n",
            "     |  \n",
            "     |  year\n",
            "    \n",
            "    class time(builtins.object)\n",
            "     |  time([hour[, minute[, second[, microsecond[, tzinfo]]]]]) --> a time object\n",
            "     |  \n",
            "     |  All arguments are optional. tzinfo may be None, or an instance of\n",
            "     |  a tzinfo subclass. The remaining arguments may be ints.\n",
            "     |  \n",
            "     |  Methods defined here:\n",
            "     |  \n",
            "     |  __eq__(self, value, /)\n",
            "     |      Return self==value.\n",
            "     |  \n",
            "     |  __format__(...)\n",
            "     |      Formats self with strftime.\n",
            "     |  \n",
            "     |  __ge__(self, value, /)\n",
            "     |      Return self>=value.\n",
            "     |  \n",
            "     |  __getattribute__(self, name, /)\n",
            "     |      Return getattr(self, name).\n",
            "     |  \n",
            "     |  __gt__(self, value, /)\n",
            "     |      Return self>value.\n",
            "     |  \n",
            "     |  __hash__(self, /)\n",
            "     |      Return hash(self).\n",
            "     |  \n",
            "     |  __le__(self, value, /)\n",
            "     |      Return self<=value.\n",
            "     |  \n",
            "     |  __lt__(self, value, /)\n",
            "     |      Return self<value.\n",
            "     |  \n",
            "     |  __ne__(self, value, /)\n",
            "     |      Return self!=value.\n",
            "     |  \n",
            "     |  __reduce__(...)\n",
            "     |      __reduce__() -> (cls, state)\n",
            "     |  \n",
            "     |  __reduce_ex__(...)\n",
            "     |      __reduce_ex__(proto) -> (cls, state)\n",
            "     |  \n",
            "     |  __repr__(self, /)\n",
            "     |      Return repr(self).\n",
            "     |  \n",
            "     |  __str__(self, /)\n",
            "     |      Return str(self).\n",
            "     |  \n",
            "     |  dst(...)\n",
            "     |      Return self.tzinfo.dst(self).\n",
            "     |  \n",
            "     |  isoformat(...)\n",
            "     |      Return string in ISO 8601 format, [HH[:MM[:SS[.mmm[uuu]]]]][+HH:MM].\n",
            "     |      \n",
            "     |      The optional argument timespec specifies the number of additional terms\n",
            "     |      of the time to include. Valid options are 'auto', 'hours', 'minutes',\n",
            "     |      'seconds', 'milliseconds' and 'microseconds'.\n",
            "     |  \n",
            "     |  replace(...)\n",
            "     |      Return time with new specified fields.\n",
            "     |  \n",
            "     |  strftime(...)\n",
            "     |      format -> strftime() style string.\n",
            "     |  \n",
            "     |  tzname(...)\n",
            "     |      Return self.tzinfo.tzname(self).\n",
            "     |  \n",
            "     |  utcoffset(...)\n",
            "     |      Return self.tzinfo.utcoffset(self).\n",
            "     |  \n",
            "     |  ----------------------------------------------------------------------\n",
            "     |  Class methods defined here:\n",
            "     |  \n",
            "     |  fromisoformat(...) from builtins.type\n",
            "     |      string -> time from time.isoformat() output\n",
            "     |  \n",
            "     |  ----------------------------------------------------------------------\n",
            "     |  Static methods defined here:\n",
            "     |  \n",
            "     |  __new__(*args, **kwargs) from builtins.type\n",
            "     |      Create and return a new object.  See help(type) for accurate signature.\n",
            "     |  \n",
            "     |  ----------------------------------------------------------------------\n",
            "     |  Data descriptors defined here:\n",
            "     |  \n",
            "     |  fold\n",
            "     |  \n",
            "     |  hour\n",
            "     |  \n",
            "     |  microsecond\n",
            "     |  \n",
            "     |  minute\n",
            "     |  \n",
            "     |  second\n",
            "     |  \n",
            "     |  tzinfo\n",
            "     |  \n",
            "     |  ----------------------------------------------------------------------\n",
            "     |  Data and other attributes defined here:\n",
            "     |  \n",
            "     |  max = datetime.time(23, 59, 59, 999999)\n",
            "     |  \n",
            "     |  min = datetime.time(0, 0)\n",
            "     |  \n",
            "     |  resolution = datetime.timedelta(microseconds=1)\n",
            "    \n",
            "    class timedelta(builtins.object)\n",
            "     |  Difference between two datetime values.\n",
            "     |  \n",
            "     |  timedelta(days=0, seconds=0, microseconds=0, milliseconds=0, minutes=0, hours=0, weeks=0)\n",
            "     |  \n",
            "     |  All arguments are optional and default to 0.\n",
            "     |  Arguments may be integers or floats, and may be positive or negative.\n",
            "     |  \n",
            "     |  Methods defined here:\n",
            "     |  \n",
            "     |  __abs__(self, /)\n",
            "     |      abs(self)\n",
            "     |  \n",
            "     |  __add__(self, value, /)\n",
            "     |      Return self+value.\n",
            "     |  \n",
            "     |  __bool__(self, /)\n",
            "     |      True if self else False\n",
            "     |  \n",
            "     |  __divmod__(self, value, /)\n",
            "     |      Return divmod(self, value).\n",
            "     |  \n",
            "     |  __eq__(self, value, /)\n",
            "     |      Return self==value.\n",
            "     |  \n",
            "     |  __floordiv__(self, value, /)\n",
            "     |      Return self//value.\n",
            "     |  \n",
            "     |  __ge__(self, value, /)\n",
            "     |      Return self>=value.\n",
            "     |  \n",
            "     |  __getattribute__(self, name, /)\n",
            "     |      Return getattr(self, name).\n",
            "     |  \n",
            "     |  __gt__(self, value, /)\n",
            "     |      Return self>value.\n",
            "     |  \n",
            "     |  __hash__(self, /)\n",
            "     |      Return hash(self).\n",
            "     |  \n",
            "     |  __le__(self, value, /)\n",
            "     |      Return self<=value.\n",
            "     |  \n",
            "     |  __lt__(self, value, /)\n",
            "     |      Return self<value.\n",
            "     |  \n",
            "     |  __mod__(self, value, /)\n",
            "     |      Return self%value.\n",
            "     |  \n",
            "     |  __mul__(self, value, /)\n",
            "     |      Return self*value.\n",
            "     |  \n",
            "     |  __ne__(self, value, /)\n",
            "     |      Return self!=value.\n",
            "     |  \n",
            "     |  __neg__(self, /)\n",
            "     |      -self\n",
            "     |  \n",
            "     |  __pos__(self, /)\n",
            "     |      +self\n",
            "     |  \n",
            "     |  __radd__(self, value, /)\n",
            "     |      Return value+self.\n",
            "     |  \n",
            "     |  __rdivmod__(self, value, /)\n",
            "     |      Return divmod(value, self).\n",
            "     |  \n",
            "     |  __reduce__(...)\n",
            "     |      __reduce__() -> (cls, state)\n",
            "     |  \n",
            "     |  __repr__(self, /)\n",
            "     |      Return repr(self).\n",
            "     |  \n",
            "     |  __rfloordiv__(self, value, /)\n",
            "     |      Return value//self.\n",
            "     |  \n",
            "     |  __rmod__(self, value, /)\n",
            "     |      Return value%self.\n",
            "     |  \n",
            "     |  __rmul__(self, value, /)\n",
            "     |      Return value*self.\n",
            "     |  \n",
            "     |  __rsub__(self, value, /)\n",
            "     |      Return value-self.\n",
            "     |  \n",
            "     |  __rtruediv__(self, value, /)\n",
            "     |      Return value/self.\n",
            "     |  \n",
            "     |  __str__(self, /)\n",
            "     |      Return str(self).\n",
            "     |  \n",
            "     |  __sub__(self, value, /)\n",
            "     |      Return self-value.\n",
            "     |  \n",
            "     |  __truediv__(self, value, /)\n",
            "     |      Return self/value.\n",
            "     |  \n",
            "     |  total_seconds(...)\n",
            "     |      Total seconds in the duration.\n",
            "     |  \n",
            "     |  ----------------------------------------------------------------------\n",
            "     |  Static methods defined here:\n",
            "     |  \n",
            "     |  __new__(*args, **kwargs) from builtins.type\n",
            "     |      Create and return a new object.  See help(type) for accurate signature.\n",
            "     |  \n",
            "     |  ----------------------------------------------------------------------\n",
            "     |  Data descriptors defined here:\n",
            "     |  \n",
            "     |  days\n",
            "     |      Number of days.\n",
            "     |  \n",
            "     |  microseconds\n",
            "     |      Number of microseconds (>= 0 and less than 1 second).\n",
            "     |  \n",
            "     |  seconds\n",
            "     |      Number of seconds (>= 0 and less than 1 day).\n",
            "     |  \n",
            "     |  ----------------------------------------------------------------------\n",
            "     |  Data and other attributes defined here:\n",
            "     |  \n",
            "     |  max = datetime.timedelta(days=999999999, seconds=86399, microseconds=9...\n",
            "     |  \n",
            "     |  min = datetime.timedelta(days=-999999999)\n",
            "     |  \n",
            "     |  resolution = datetime.timedelta(microseconds=1)\n",
            "    \n",
            "    class timezone(tzinfo)\n",
            "     |  Fixed offset from UTC implementation of tzinfo.\n",
            "     |  \n",
            "     |  Method resolution order:\n",
            "     |      timezone\n",
            "     |      tzinfo\n",
            "     |      builtins.object\n",
            "     |  \n",
            "     |  Methods defined here:\n",
            "     |  \n",
            "     |  __eq__(self, value, /)\n",
            "     |      Return self==value.\n",
            "     |  \n",
            "     |  __ge__(self, value, /)\n",
            "     |      Return self>=value.\n",
            "     |  \n",
            "     |  __getinitargs__(...)\n",
            "     |      pickle support\n",
            "     |  \n",
            "     |  __gt__(self, value, /)\n",
            "     |      Return self>value.\n",
            "     |  \n",
            "     |  __hash__(self, /)\n",
            "     |      Return hash(self).\n",
            "     |  \n",
            "     |  __le__(self, value, /)\n",
            "     |      Return self<=value.\n",
            "     |  \n",
            "     |  __lt__(self, value, /)\n",
            "     |      Return self<value.\n",
            "     |  \n",
            "     |  __ne__(self, value, /)\n",
            "     |      Return self!=value.\n",
            "     |  \n",
            "     |  __repr__(self, /)\n",
            "     |      Return repr(self).\n",
            "     |  \n",
            "     |  __str__(self, /)\n",
            "     |      Return str(self).\n",
            "     |  \n",
            "     |  dst(...)\n",
            "     |      Return None.\n",
            "     |  \n",
            "     |  fromutc(...)\n",
            "     |      datetime in UTC -> datetime in local time.\n",
            "     |  \n",
            "     |  tzname(...)\n",
            "     |      If name is specified when timezone is created, returns the name.  Otherwise returns offset as 'UTC(+|-)HH:MM'.\n",
            "     |  \n",
            "     |  utcoffset(...)\n",
            "     |      Return fixed offset.\n",
            "     |  \n",
            "     |  ----------------------------------------------------------------------\n",
            "     |  Static methods defined here:\n",
            "     |  \n",
            "     |  __new__(*args, **kwargs) from builtins.type\n",
            "     |      Create and return a new object.  See help(type) for accurate signature.\n",
            "     |  \n",
            "     |  ----------------------------------------------------------------------\n",
            "     |  Data and other attributes defined here:\n",
            "     |  \n",
            "     |  max = datetime.timezone(datetime.timedelta(seconds=86340))\n",
            "     |  \n",
            "     |  min = datetime.timezone(datetime.timedelta(days=-1, seconds=60))\n",
            "     |  \n",
            "     |  utc = datetime.timezone.utc\n",
            "     |  \n",
            "     |  ----------------------------------------------------------------------\n",
            "     |  Methods inherited from tzinfo:\n",
            "     |  \n",
            "     |  __getattribute__(self, name, /)\n",
            "     |      Return getattr(self, name).\n",
            "     |  \n",
            "     |  __reduce__(...)\n",
            "     |      -> (cls, state)\n",
            "    \n",
            "    class tzinfo(builtins.object)\n",
            "     |  Abstract base class for time zone info objects.\n",
            "     |  \n",
            "     |  Methods defined here:\n",
            "     |  \n",
            "     |  __getattribute__(self, name, /)\n",
            "     |      Return getattr(self, name).\n",
            "     |  \n",
            "     |  __reduce__(...)\n",
            "     |      -> (cls, state)\n",
            "     |  \n",
            "     |  dst(...)\n",
            "     |      datetime -> DST offset as timedelta positive east of UTC.\n",
            "     |  \n",
            "     |  fromutc(...)\n",
            "     |      datetime in UTC -> datetime in local time.\n",
            "     |  \n",
            "     |  tzname(...)\n",
            "     |      datetime -> string name of time zone.\n",
            "     |  \n",
            "     |  utcoffset(...)\n",
            "     |      datetime -> timedelta showing offset from UTC, negative values indicating West of UTC\n",
            "     |  \n",
            "     |  ----------------------------------------------------------------------\n",
            "     |  Static methods defined here:\n",
            "     |  \n",
            "     |  __new__(*args, **kwargs) from builtins.type\n",
            "     |      Create and return a new object.  See help(type) for accurate signature.\n",
            "\n",
            "DATA\n",
            "    MAXYEAR = 9999\n",
            "    MINYEAR = 1\n",
            "    __all__ = ('date', 'datetime', 'time', 'timedelta', 'timezone', 'tzinf...\n",
            "\n",
            "FILE\n",
            "    /usr/lib/python3.10/datetime.py\n",
            "\n",
            "\n"
          ]
        }
      ]
    },
    {
      "cell_type": "markdown",
      "source": [
        "### math"
      ],
      "metadata": {
        "id": "pVNJX-PY_I6n"
      }
    },
    {
      "cell_type": "code",
      "source": [
        "import math"
      ],
      "metadata": {
        "id": "Rb0lgR3Msmvi"
      },
      "execution_count": null,
      "outputs": []
    },
    {
      "cell_type": "markdown",
      "source": [],
      "metadata": {
        "id": "tmIRgKNPiExZ"
      }
    },
    {
      "cell_type": "markdown",
      "source": [
        "### json"
      ],
      "metadata": {
        "id": "Xo7AqWj1_Ksj"
      }
    },
    {
      "cell_type": "code",
      "source": [
        "import json"
      ],
      "metadata": {
        "id": "aIQqC0HTsodz"
      },
      "execution_count": null,
      "outputs": []
    }
  ]
}